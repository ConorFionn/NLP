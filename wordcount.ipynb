{
  "nbformat": 4,
  "nbformat_minor": 0,
  "metadata": {
    "colab": {
      "provenance": []
    },
    "kernelspec": {
      "name": "python3",
      "display_name": "Python 3"
    },
    "language_info": {
      "name": "python"
    }
  },
  "cells": [
    {
      "cell_type": "code",
      "source": [
        "import sys\n",
        "\n",
        "word = sys.argv[1]\n",
        "\n",
        "filename = sys.argv[2]\n",
        "\n",
        "def word_count_dict(word, filename):\n",
        "  \"\"\"Returns a word/count dict for this filename.\"\"\"\n",
        "  count=0\n",
        "  input_file=open(filename, 'r')\n",
        "  for line in input_file:\n",
        "    words=line.split()\n",
        "    for word in words:\n",
        "      word=word.lower()\n",
        "\n",
        "    if word in words:\n",
        "        count+=1\n",
        "\n",
        "  print(\"Count = \", count)\n",
        "  input_file.close()\n",
        "  return count"
      ],
      "metadata": {
        "id": "-iq3vxzV66_S"
      },
      "execution_count": null,
      "outputs": []
    }
  ]
}